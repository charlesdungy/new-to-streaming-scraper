{
 "cells": [
  {
   "cell_type": "code",
   "execution_count": 1,
   "id": "missing-angel",
   "metadata": {},
   "outputs": [],
   "source": [
    "import pandas as pd\n",
    "import numpy as np"
   ]
  },
  {
   "cell_type": "code",
   "execution_count": 2,
   "id": "located-denmark",
   "metadata": {},
   "outputs": [],
   "source": [
    "df = pd.read_json('../data/raw/april_movie_scores_v2.json')"
   ]
  },
  {
   "cell_type": "code",
   "execution_count": 3,
   "id": "presidential-begin",
   "metadata": {},
   "outputs": [
    {
     "data": {
      "text/html": [
       "<div>\n",
       "<style scoped>\n",
       "    .dataframe tbody tr th:only-of-type {\n",
       "        vertical-align: middle;\n",
       "    }\n",
       "\n",
       "    .dataframe tbody tr th {\n",
       "        vertical-align: top;\n",
       "    }\n",
       "\n",
       "    .dataframe thead th {\n",
       "        text-align: right;\n",
       "    }\n",
       "</style>\n",
       "<table border=\"1\" class=\"dataframe\">\n",
       "  <thead>\n",
       "    <tr style=\"text-align: right;\">\n",
       "      <th></th>\n",
       "      <th>Title</th>\n",
       "      <th>Critic_score</th>\n",
       "      <th>Audience_score</th>\n",
       "      <th>Details</th>\n",
       "      <th>Rating</th>\n",
       "      <th>URL</th>\n",
       "      <th>Poster_URL</th>\n",
       "    </tr>\n",
       "  </thead>\n",
       "  <tbody>\n",
       "    <tr>\n",
       "      <th>0</th>\n",
       "      <td>Cop-Out</td>\n",
       "      <td></td>\n",
       "      <td></td>\n",
       "      <td>1967, Drama/Crime, 1h 35m</td>\n",
       "      <td></td>\n",
       "      <td>https://www.rottentomatoes.com/m/cop_out-1967</td>\n",
       "      <td>https://resizing.flixster.com/HOKDkfbwskhg7LCE...</td>\n",
       "    </tr>\n",
       "    <tr>\n",
       "      <th>1</th>\n",
       "      <td>Coven of Sisters</td>\n",
       "      <td>83</td>\n",
       "      <td>84</td>\n",
       "      <td>2020, Drama, 1h 30m</td>\n",
       "      <td></td>\n",
       "      <td>https://www.rottentomatoes.com/m/coven_of_sisters</td>\n",
       "      <td>https://resizing.flixster.com/zhHs_fy9ekb7au5s...</td>\n",
       "    </tr>\n",
       "    <tr>\n",
       "      <th>2</th>\n",
       "      <td>Friends With Benefits</td>\n",
       "      <td>68</td>\n",
       "      <td>65</td>\n",
       "      <td>2011, Romance, 1h 49m</td>\n",
       "      <td>R</td>\n",
       "      <td>https://www.rottentomatoes.com/m/friends_with_...</td>\n",
       "      <td>https://resizing.flixster.com/s8BnY0xP6GCJwyPv...</td>\n",
       "    </tr>\n",
       "    <tr>\n",
       "      <th>3</th>\n",
       "      <td>Insidious: The Last Key</td>\n",
       "      <td>33</td>\n",
       "      <td>50</td>\n",
       "      <td>2018, Horror/Mystery and thriller, 1h 43m</td>\n",
       "      <td>PG-13</td>\n",
       "      <td>https://www.rottentomatoes.com/m/insidious_the...</td>\n",
       "      <td>https://resizing.flixster.com/dI2Ao2aOyPNKmNIg...</td>\n",
       "    </tr>\n",
       "    <tr>\n",
       "      <th>4</th>\n",
       "      <td>Irul</td>\n",
       "      <td>0</td>\n",
       "      <td></td>\n",
       "      <td>2021, Mystery and thriller, 1h 31m</td>\n",
       "      <td></td>\n",
       "      <td>https://www.rottentomatoes.com/m/irul</td>\n",
       "      <td>https://resizing.flixster.com/0LeWXambtQWf7BHS...</td>\n",
       "    </tr>\n",
       "  </tbody>\n",
       "</table>\n",
       "</div>"
      ],
      "text/plain": [
       "                     Title Critic_score Audience_score  \\\n",
       "0                  Cop-Out                               \n",
       "1         Coven of Sisters           83             84   \n",
       "2    Friends With Benefits           68             65   \n",
       "3  Insidious: The Last Key           33             50   \n",
       "4                     Irul            0                  \n",
       "\n",
       "                                     Details Rating  \\\n",
       "0                  1967, Drama/Crime, 1h 35m          \n",
       "1                        2020, Drama, 1h 30m          \n",
       "2                      2011, Romance, 1h 49m      R   \n",
       "3  2018, Horror/Mystery and thriller, 1h 43m  PG-13   \n",
       "4         2021, Mystery and thriller, 1h 31m          \n",
       "\n",
       "                                                 URL  \\\n",
       "0      https://www.rottentomatoes.com/m/cop_out-1967   \n",
       "1  https://www.rottentomatoes.com/m/coven_of_sisters   \n",
       "2  https://www.rottentomatoes.com/m/friends_with_...   \n",
       "3  https://www.rottentomatoes.com/m/insidious_the...   \n",
       "4              https://www.rottentomatoes.com/m/irul   \n",
       "\n",
       "                                          Poster_URL  \n",
       "0  https://resizing.flixster.com/HOKDkfbwskhg7LCE...  \n",
       "1  https://resizing.flixster.com/zhHs_fy9ekb7au5s...  \n",
       "2  https://resizing.flixster.com/s8BnY0xP6GCJwyPv...  \n",
       "3  https://resizing.flixster.com/dI2Ao2aOyPNKmNIg...  \n",
       "4  https://resizing.flixster.com/0LeWXambtQWf7BHS...  "
      ]
     },
     "execution_count": 3,
     "metadata": {},
     "output_type": "execute_result"
    }
   ],
   "source": [
    "df.head()"
   ]
  },
  {
   "cell_type": "code",
   "execution_count": 4,
   "id": "listed-prince",
   "metadata": {},
   "outputs": [
    {
     "data": {
      "text/plain": [
       "Title             178\n",
       "Critic_score      178\n",
       "Audience_score    178\n",
       "Details           178\n",
       "Rating            178\n",
       "URL               178\n",
       "Poster_URL        178\n",
       "dtype: int64"
      ]
     },
     "execution_count": 4,
     "metadata": {},
     "output_type": "execute_result"
    }
   ],
   "source": [
    "# View how many rows are missing critic scores\n",
    "df[df.Critic_score == \"\"].count()"
   ]
  },
  {
   "cell_type": "code",
   "execution_count": 5,
   "id": "db769409",
   "metadata": {},
   "outputs": [
    {
     "data": {
      "text/plain": [
       "Title             69\n",
       "Critic_score      69\n",
       "Audience_score    69\n",
       "Details           69\n",
       "Rating            69\n",
       "URL               69\n",
       "Poster_URL        69\n",
       "dtype: int64"
      ]
     },
     "execution_count": 5,
     "metadata": {},
     "output_type": "execute_result"
    }
   ],
   "source": [
    "# View how many rows are missing audience scores\n",
    "df[df.Audience_score == \"\"].count()"
   ]
  },
  {
   "cell_type": "code",
   "execution_count": 6,
   "id": "funny-cologne",
   "metadata": {},
   "outputs": [
    {
     "data": {
      "text/plain": [
       "Title               0\n",
       "Critic_score      178\n",
       "Audience_score     69\n",
       "Details             0\n",
       "Rating            193\n",
       "URL                 0\n",
       "Poster_URL          0\n",
       "dtype: int64"
      ]
     },
     "execution_count": 6,
     "metadata": {},
     "output_type": "execute_result"
    }
   ],
   "source": [
    "# Determine count of missing values across dataframe\n",
    "df.replace(\"\", np.NaN, inplace=True)\n",
    "df.isnull().sum()"
   ]
  },
  {
   "cell_type": "code",
   "execution_count": 7,
   "id": "8cba6969",
   "metadata": {},
   "outputs": [],
   "source": [
    "# Replace missing Critic_score, Audience_score, and Rating values with NR\n",
    "df.Critic_score.replace(np.NaN, \"NR\", inplace=True)\n",
    "df.Audience_score.replace(np.NaN, \"NR\", inplace=True)\n",
    "df.Rating.replace(np.NaN, \"NR\", inplace=True)"
   ]
  },
  {
   "cell_type": "code",
   "execution_count": 8,
   "id": "f7228cd4",
   "metadata": {},
   "outputs": [
    {
     "data": {
      "text/plain": [
       "Title             0\n",
       "Critic_score      0\n",
       "Audience_score    0\n",
       "Details           0\n",
       "Rating            0\n",
       "URL               0\n",
       "Poster_URL        0\n",
       "dtype: int64"
      ]
     },
     "execution_count": 8,
     "metadata": {},
     "output_type": "execute_result"
    }
   ],
   "source": [
    "df.isnull().sum()"
   ]
  },
  {
   "cell_type": "code",
   "execution_count": 9,
   "id": "5028b898",
   "metadata": {},
   "outputs": [
    {
     "data": {
      "text/plain": [
       "'1967, Drama/Crime, 1h 35m'"
      ]
     },
     "execution_count": 9,
     "metadata": {},
     "output_type": "execute_result"
    }
   ],
   "source": [
    "# View first value of Details column\n",
    "df.Details[0]"
   ]
  },
  {
   "cell_type": "code",
   "execution_count": 10,
   "id": "artificial-tunisia",
   "metadata": {
    "scrolled": true
   },
   "outputs": [
    {
     "data": {
      "text/html": [
       "<div>\n",
       "<style scoped>\n",
       "    .dataframe tbody tr th:only-of-type {\n",
       "        vertical-align: middle;\n",
       "    }\n",
       "\n",
       "    .dataframe tbody tr th {\n",
       "        vertical-align: top;\n",
       "    }\n",
       "\n",
       "    .dataframe thead th {\n",
       "        text-align: right;\n",
       "    }\n",
       "</style>\n",
       "<table border=\"1\" class=\"dataframe\">\n",
       "  <thead>\n",
       "    <tr style=\"text-align: right;\">\n",
       "      <th></th>\n",
       "      <th>Title</th>\n",
       "      <th>Critic_score</th>\n",
       "      <th>Audience_score</th>\n",
       "      <th>Rating</th>\n",
       "      <th>URL</th>\n",
       "      <th>Poster_URL</th>\n",
       "      <th>Year</th>\n",
       "      <th>Title_category</th>\n",
       "      <th>Runtime</th>\n",
       "    </tr>\n",
       "  </thead>\n",
       "  <tbody>\n",
       "    <tr>\n",
       "      <th>0</th>\n",
       "      <td>Cop-Out</td>\n",
       "      <td>NR</td>\n",
       "      <td>NR</td>\n",
       "      <td>NR</td>\n",
       "      <td>https://www.rottentomatoes.com/m/cop_out-1967</td>\n",
       "      <td>https://resizing.flixster.com/HOKDkfbwskhg7LCE...</td>\n",
       "      <td>1967</td>\n",
       "      <td>Drama/Crime</td>\n",
       "      <td>1h 35m</td>\n",
       "    </tr>\n",
       "    <tr>\n",
       "      <th>1</th>\n",
       "      <td>Coven of Sisters</td>\n",
       "      <td>83</td>\n",
       "      <td>84</td>\n",
       "      <td>NR</td>\n",
       "      <td>https://www.rottentomatoes.com/m/coven_of_sisters</td>\n",
       "      <td>https://resizing.flixster.com/zhHs_fy9ekb7au5s...</td>\n",
       "      <td>2020</td>\n",
       "      <td>Drama</td>\n",
       "      <td>1h 30m</td>\n",
       "    </tr>\n",
       "  </tbody>\n",
       "</table>\n",
       "</div>"
      ],
      "text/plain": [
       "              Title Critic_score Audience_score Rating  \\\n",
       "0           Cop-Out           NR             NR     NR   \n",
       "1  Coven of Sisters           83             84     NR   \n",
       "\n",
       "                                                 URL  \\\n",
       "0      https://www.rottentomatoes.com/m/cop_out-1967   \n",
       "1  https://www.rottentomatoes.com/m/coven_of_sisters   \n",
       "\n",
       "                                          Poster_URL  Year Title_category  \\\n",
       "0  https://resizing.flixster.com/HOKDkfbwskhg7LCE...  1967    Drama/Crime   \n",
       "1  https://resizing.flixster.com/zhHs_fy9ekb7au5s...  2020          Drama   \n",
       "\n",
       "  Runtime  \n",
       "0  1h 35m  \n",
       "1  1h 30m  "
      ]
     },
     "execution_count": 10,
     "metadata": {},
     "output_type": "execute_result"
    }
   ],
   "source": [
    "# Extract values from Details column to create new columns\n",
    "df['Year'] = df.Details.str.split(\",\").str[0].str.strip()\n",
    "df['Title_category'] = df.Details.str.split(\",\").str[1]\n",
    "df['Title_category'] = df.Title_category.str.strip()\n",
    "df['Runtime'] = df.Details.str.split(\",\").str[2].str.strip()\n",
    "\n",
    "# Drop Details from df\n",
    "df.drop('Details', axis=1, inplace=True)\n",
    "df.head(2)"
   ]
  },
  {
   "cell_type": "code",
   "execution_count": 11,
   "id": "suburban-chemistry",
   "metadata": {},
   "outputs": [
    {
     "data": {
      "text/html": [
       "<div>\n",
       "<style scoped>\n",
       "    .dataframe tbody tr th:only-of-type {\n",
       "        vertical-align: middle;\n",
       "    }\n",
       "\n",
       "    .dataframe tbody tr th {\n",
       "        vertical-align: top;\n",
       "    }\n",
       "\n",
       "    .dataframe thead th {\n",
       "        text-align: right;\n",
       "    }\n",
       "</style>\n",
       "<table border=\"1\" class=\"dataframe\">\n",
       "  <thead>\n",
       "    <tr style=\"text-align: right;\">\n",
       "      <th></th>\n",
       "      <th>Title</th>\n",
       "      <th>Year</th>\n",
       "      <th>Critic_score</th>\n",
       "      <th>Audience_score</th>\n",
       "      <th>Title_category</th>\n",
       "      <th>Rating</th>\n",
       "      <th>Runtime</th>\n",
       "      <th>URL</th>\n",
       "      <th>Poster_URL</th>\n",
       "    </tr>\n",
       "  </thead>\n",
       "  <tbody>\n",
       "    <tr>\n",
       "      <th>0</th>\n",
       "      <td>Cop-Out</td>\n",
       "      <td>1967</td>\n",
       "      <td>NR</td>\n",
       "      <td>NR</td>\n",
       "      <td>Drama/Crime</td>\n",
       "      <td>NR</td>\n",
       "      <td>1h 35m</td>\n",
       "      <td>https://www.rottentomatoes.com/m/cop_out-1967</td>\n",
       "      <td>https://resizing.flixster.com/HOKDkfbwskhg7LCE...</td>\n",
       "    </tr>\n",
       "    <tr>\n",
       "      <th>1</th>\n",
       "      <td>Coven of Sisters</td>\n",
       "      <td>2020</td>\n",
       "      <td>83</td>\n",
       "      <td>84</td>\n",
       "      <td>Drama</td>\n",
       "      <td>NR</td>\n",
       "      <td>1h 30m</td>\n",
       "      <td>https://www.rottentomatoes.com/m/coven_of_sisters</td>\n",
       "      <td>https://resizing.flixster.com/zhHs_fy9ekb7au5s...</td>\n",
       "    </tr>\n",
       "  </tbody>\n",
       "</table>\n",
       "</div>"
      ],
      "text/plain": [
       "              Title  Year Critic_score Audience_score Title_category Rating  \\\n",
       "0           Cop-Out  1967           NR             NR    Drama/Crime     NR   \n",
       "1  Coven of Sisters  2020           83             84          Drama     NR   \n",
       "\n",
       "  Runtime                                                URL  \\\n",
       "0  1h 35m      https://www.rottentomatoes.com/m/cop_out-1967   \n",
       "1  1h 30m  https://www.rottentomatoes.com/m/coven_of_sisters   \n",
       "\n",
       "                                          Poster_URL  \n",
       "0  https://resizing.flixster.com/HOKDkfbwskhg7LCE...  \n",
       "1  https://resizing.flixster.com/zhHs_fy9ekb7au5s...  "
      ]
     },
     "execution_count": 11,
     "metadata": {},
     "output_type": "execute_result"
    }
   ],
   "source": [
    "# Reorder dataframe to match SQL table\n",
    "columns = ['Title', 'Year', 'Critic_score', 'Audience_score', 'Title_category', 'Rating', 'Runtime', 'URL', 'Poster_URL']\n",
    "df = df[columns]\n",
    "df.head(2)"
   ]
  },
  {
   "cell_type": "code",
   "execution_count": 12,
   "id": "driven-judges",
   "metadata": {},
   "outputs": [
    {
     "data": {
      "text/plain": [
       "False    339\n",
       "True       1\n",
       "dtype: int64"
      ]
     },
     "execution_count": 12,
     "metadata": {},
     "output_type": "execute_result"
    }
   ],
   "source": [
    "# Check count of duplicates based on Title, Year, Critic_score, Audience_score\n",
    "df.duplicated(subset=['Title', 'Year', 'Critic_score', 'Audience_score']).value_counts()"
   ]
  },
  {
   "cell_type": "code",
   "execution_count": 13,
   "id": "expired-turkey",
   "metadata": {},
   "outputs": [
    {
     "data": {
      "text/html": [
       "<div>\n",
       "<style scoped>\n",
       "    .dataframe tbody tr th:only-of-type {\n",
       "        vertical-align: middle;\n",
       "    }\n",
       "\n",
       "    .dataframe tbody tr th {\n",
       "        vertical-align: top;\n",
       "    }\n",
       "\n",
       "    .dataframe thead th {\n",
       "        text-align: right;\n",
       "    }\n",
       "</style>\n",
       "<table border=\"1\" class=\"dataframe\">\n",
       "  <thead>\n",
       "    <tr style=\"text-align: right;\">\n",
       "      <th></th>\n",
       "      <th>Title</th>\n",
       "      <th>Year</th>\n",
       "      <th>Critic_score</th>\n",
       "      <th>Audience_score</th>\n",
       "      <th>Title_category</th>\n",
       "      <th>Rating</th>\n",
       "      <th>Runtime</th>\n",
       "      <th>URL</th>\n",
       "      <th>Poster_URL</th>\n",
       "    </tr>\n",
       "  </thead>\n",
       "  <tbody>\n",
       "    <tr>\n",
       "      <th>270</th>\n",
       "      <td>Slayers: The Motion Picture</td>\n",
       "      <td>1995</td>\n",
       "      <td>NR</td>\n",
       "      <td>74</td>\n",
       "      <td>Animation/Fantasy</td>\n",
       "      <td>NR</td>\n",
       "      <td>1h 15m</td>\n",
       "      <td>https://www.rottentomatoes.com/m/slayers_great</td>\n",
       "      <td>/assets/pizza-pie/images/poster_default.c8c896...</td>\n",
       "    </tr>\n",
       "    <tr>\n",
       "      <th>272</th>\n",
       "      <td>Slayers: The Motion Picture</td>\n",
       "      <td>1995</td>\n",
       "      <td>NR</td>\n",
       "      <td>74</td>\n",
       "      <td>Animation/Fantasy</td>\n",
       "      <td>NR</td>\n",
       "      <td>1h 15m</td>\n",
       "      <td>https://www.rottentomatoes.com/m/slayers_the_m...</td>\n",
       "      <td>/assets/pizza-pie/images/poster_default.c8c896...</td>\n",
       "    </tr>\n",
       "  </tbody>\n",
       "</table>\n",
       "</div>"
      ],
      "text/plain": [
       "                           Title  Year Critic_score Audience_score  \\\n",
       "270  Slayers: The Motion Picture  1995           NR             74   \n",
       "272  Slayers: The Motion Picture  1995           NR             74   \n",
       "\n",
       "        Title_category Rating Runtime  \\\n",
       "270  Animation/Fantasy     NR  1h 15m   \n",
       "272  Animation/Fantasy     NR  1h 15m   \n",
       "\n",
       "                                                   URL  \\\n",
       "270     https://www.rottentomatoes.com/m/slayers_great   \n",
       "272  https://www.rottentomatoes.com/m/slayers_the_m...   \n",
       "\n",
       "                                            Poster_URL  \n",
       "270  /assets/pizza-pie/images/poster_default.c8c896...  \n",
       "272  /assets/pizza-pie/images/poster_default.c8c896...  "
      ]
     },
     "execution_count": 13,
     "metadata": {},
     "output_type": "execute_result"
    }
   ],
   "source": [
    "# View duplicated values based on Title, Year, Critic_score, Audience_score\n",
    "df[df.duplicated(subset=['Title', 'Year', 'Critic_score', 'Audience_score'], keep=False)]"
   ]
  },
  {
   "cell_type": "code",
   "execution_count": 14,
   "id": "stable-musician",
   "metadata": {},
   "outputs": [],
   "source": [
    "# Drop those duplicated values, keeping the last one\n",
    "df = df.drop_duplicates(subset=['Title', 'Year', 'Critic_score', 'Audience_score'], keep='last')"
   ]
  },
  {
   "cell_type": "code",
   "execution_count": 15,
   "id": "99f6c408",
   "metadata": {},
   "outputs": [],
   "source": [
    "# Omit Poster_URL values with .gif as these are bad URLs\n",
    "df.loc[df.Poster_URL.str.contains('.gif'), 'Poster_URL'] = \"\""
   ]
  }
 ],
 "metadata": {
  "kernelspec": {
   "display_name": "Python 3",
   "language": "python",
   "name": "python3"
  },
  "language_info": {
   "codemirror_mode": {
    "name": "ipython",
    "version": 3
   },
   "file_extension": ".py",
   "mimetype": "text/x-python",
   "name": "python",
   "nbconvert_exporter": "python",
   "pygments_lexer": "ipython3",
   "version": "3.9.4"
  }
 },
 "nbformat": 4,
 "nbformat_minor": 5
}
